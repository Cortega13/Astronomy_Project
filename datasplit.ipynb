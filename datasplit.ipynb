{
 "cells": [
  {
   "cell_type": "code",
   "execution_count": 1,
   "metadata": {},
   "outputs": [],
   "source": [
    "import pandas as pd\n",
    "import numpy as np"
   ]
  },
  {
   "cell_type": "code",
   "execution_count": 1,
   "metadata": {},
   "outputs": [
    {
     "ename": "",
     "evalue": "",
     "output_type": "error",
     "traceback": [
      "\u001b[1;31mThe Kernel crashed while executing code in the current cell or a previous cell. \n",
      "\u001b[1;31mPlease review the code in the cell(s) to identify a possible cause of the failure. \n",
      "\u001b[1;31mClick <a href='https://aka.ms/vscodeJupyterKernelCrash'>here</a> for more info. \n",
      "\u001b[1;31mView Jupyter <a href='command:jupyter.viewOutput'>log</a> for further details."
     ]
    }
   ],
   "source": [
    "import pandas as pd\n",
    "import numpy as np\n",
    "import h5py\n",
    "import random\n",
    "from sklearn.model_selection import train_test_split\n",
    "\n",
    "def split_hdf5_by_models(input_file_path, train_output_path='training.h5', valid_output_path='validation.h5', \n",
    "                         test_size=0.3, random_state=42):\n",
    "    \"\"\"\n",
    "    Reads an HDF5 file, sorts it by [\"Models\", \"Time\"], extracts unique models,\n",
    "    randomly splits them (70% training, 30% validation), and saves the split data\n",
    "    into two separate HDF5 files.\n",
    "    \n",
    "    Parameters:\n",
    "    -----------\n",
    "    input_file_path : str\n",
    "        Path to the input HDF5 file\n",
    "    train_output_path : str\n",
    "        Path to save the training data (default: 'training.h5')\n",
    "    valid_output_path : str\n",
    "        Path to save the validation data (default: 'validation.h5')\n",
    "    test_size : float\n",
    "        Proportion of data to be used for validation (default: 0.3)\n",
    "    random_state : int\n",
    "        Random seed for reproducibility (default: 42)\n",
    "    \"\"\"\n",
    "    # Read the HDF5 file using pandas\n",
    "    df = pd.read_hdf(input_file_path, key='models')\n",
    "    \n",
    "    # Sort the data by [\"Models\", \"Time\"]\n",
    "    df_sorted = df.sort_values(by=[\"Model\", \"Time\"])\n",
    "    \n",
    "    # Get list of unique models\n",
    "    unique_models = df_sorted[\"Model\"].unique().tolist()\n",
    "    \n",
    "    # Split models into training and validation sets\n",
    "    train_models, valid_models = train_test_split(\n",
    "        unique_models, \n",
    "        test_size=test_size, \n",
    "        random_state=random_state\n",
    "    )\n",
    "    \n",
    "    # Filter dataframes based on model lists\n",
    "    train_df = df_sorted[df_sorted[\"Model\"].isin(train_models)]\n",
    "    valid_df = df_sorted[df_sorted[\"Model\"].isin(valid_models)]\n",
    "    \n",
    "    # Save training data to HDF5\n",
    "    train_df.to_hdf(train_output_path, key='models', mode='w')\n",
    "    \n",
    "    # Save validation data to HDF5\n",
    "    valid_df.to_hdf(valid_output_path, key='models', mode='w')\n",
    "    \n",
    "    print(f\"Data split complete:\")\n",
    "    print(f\"- Training set: {len(train_models)} models ({len(train_df)} records) saved to {train_output_path}\")\n",
    "    print(f\"- Validation set: {len(valid_models)} models ({len(valid_df)} records) saved to {valid_output_path}\")\n",
    "    \n",
    "    return train_models, valid_models\n",
    "\n",
    "if __name__ == \"__main__\":\n",
    "    # Example usage\n",
    "    input_file = \"data/uclchem_rawdata_training.h5\"\n",
    "    \n",
    "    train_models, valid_models = split_hdf5_by_models(\n",
    "        input_file_path=input_file,\n",
    "        train_output_path='data/training.h5',\n",
    "        valid_output_path='data/validation.h5'\n",
    "    )"
   ]
  }
 ],
 "metadata": {
  "kernelspec": {
   "display_name": "Python 3",
   "language": "python",
   "name": "python3"
  },
  "language_info": {
   "codemirror_mode": {
    "name": "ipython",
    "version": 3
   },
   "file_extension": ".py",
   "mimetype": "text/x-python",
   "name": "python",
   "nbconvert_exporter": "python",
   "pygments_lexer": "ipython3",
   "version": "3.10.12"
  }
 },
 "nbformat": 4,
 "nbformat_minor": 2
}
