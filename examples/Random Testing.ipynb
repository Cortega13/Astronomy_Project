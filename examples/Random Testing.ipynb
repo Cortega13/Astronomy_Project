{
 "cells": [
  {
   "cell_type": "code",
   "execution_count": null,
   "metadata": {},
   "outputs": [],
   "source": [
    "import pandas as pd\n",
    "import numpy as np\n",
    "from ChemSurrogate.configs import DatasetConfig, EMConfig\n",
    "import ChemSurrogate.data_processing as dp"
   ]
  },
  {
   "cell_type": "code",
   "execution_count": null,
   "metadata": {},
   "outputs": [],
   "source": [
    "training_dataset = pd.read_hdf(\n",
    "    DatasetConfig.validation_dataset_path, \n",
    "    \"models\", \n",
    "    start=0,\n",
    "    stop=1000,\n",
    "    #stop=1500000\n",
    "    ).astype(np.float32)\n",
    "\n",
    "td_np = training_dataset[DatasetConfig.species].to_numpy()\n",
    "td_np.clip(1e-20, None, out=td_np)"
   ]
  },
  {
   "cell_type": "code",
   "execution_count": null,
   "metadata": {},
   "outputs": [],
   "source": [
    "#get index of \"BULK\" in species list\n",
    "\n",
    "bulk_index = DatasetConfig.species.index(\"BULK\")\n",
    "bulk_index"
   ]
  },
  {
   "cell_type": "code",
   "execution_count": null,
   "metadata": {},
   "outputs": [],
   "source": [
    "conservation_matrix = dp.generate_conservation_matrix()\n",
    "\n",
    "test = td_np @ conservation_matrix\n",
    "print(test[250])"
   ]
  },
  {
   "cell_type": "code",
   "execution_count": null,
   "metadata": {},
   "outputs": [],
   "source": [
    "training_dataset = pd.read_hdf(\n",
    "    DatasetConfig.validation_dataset_path, \n",
    "    \"models\", \n",
    "    start=0,\n",
    "    #stop=1000,\n",
    "    #stop=1500000\n",
    "    ).astype(np.float32)\n",
    "\n",
    "training_dataset[\"BULK\"]\n",
    "#training_dataset.to_hdf(\"../data/validation_df.h5\", key=\"models\", mode=\"w\")"
   ]
  }
 ],
 "metadata": {
  "kernelspec": {
   "display_name": "Python 3",
   "language": "python",
   "name": "python3"
  },
  "language_info": {
   "codemirror_mode": {
    "name": "ipython",
    "version": 3
   },
   "file_extension": ".py",
   "mimetype": "text/x-python",
   "name": "python",
   "nbconvert_exporter": "python",
   "pygments_lexer": "ipython3",
   "version": "3.11.9"
  }
 },
 "nbformat": 4,
 "nbformat_minor": 2
}
