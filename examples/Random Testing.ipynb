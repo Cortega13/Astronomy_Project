{
 "cells": [
  {
   "cell_type": "code",
   "execution_count": 1,
   "metadata": {},
   "outputs": [],
   "source": [
    "import pandas as pd\n",
    "import numpy as np\n",
    "from ChemSurrogate.configs import DatasetConfig, EMConfig\n",
    "import ChemSurrogate.data_processing as dp"
   ]
  },
  {
   "cell_type": "code",
   "execution_count": 2,
   "metadata": {},
   "outputs": [],
   "source": [
    "def rename_col(col):\n",
    "    col = col.replace(\"Num\", \"SURF_\").replace(\"At\", \"BULK_\")\n",
    "    return col"
   ]
  },
  {
   "cell_type": "code",
   "execution_count": 6,
   "metadata": {},
   "outputs": [
    {
     "name": "stdout",
     "output_type": "stream",
     "text": [
      "['H', 'SURF_H', 'HPlus', 'BULK_H', 'H2', 'SURF_H2', 'H2Plus', 'BULK_H2', 'H3Plus', 'HE', 'SURF_HE', 'HEPlus', 'BULK_HE', 'HEHPlus', 'C', 'SURF_C', 'CPlus', 'BULK_C', 'CH', 'CHPlus', 'SURF_CH', 'BULK_CH', 'CH2', 'CH2Plus', 'SURF_CH2', 'N', 'NPlus', 'SURF_N', 'BULK_CH2', 'BULK_N', 'CH3', 'CH3Plus', 'SURF_CH3', 'NH', 'NHPlus', 'SURF_NH', 'BULK_CH3', 'BULK_NH', 'SURF_CH4', 'CH4', 'CH4Plus', 'NH2', 'NH2Plus', 'SURF_NH2', 'O', 'SURF_O', 'OPlus', 'BULK_CH4', 'BULK_NH2', 'BULK_O', 'SURF_NH3', 'CH5Plus', 'NH3', 'NH3Plus', 'OH', 'OHPlus', 'SURF_OH', 'BULK_NH3', 'BULK_OH', 'SURF_H2O', 'H2O', 'H2OPlus', 'NH4Plus', 'BULK_H2O', 'H3OPlus', 'C2', 'C2Plus', 'MG', 'MGPlus', 'SURF_C2', 'SURF_MG', 'BULK_C2', 'BULK_MG', 'C2H', 'C2HPlus', 'SURF_C2H', 'BULK_C2H', 'SURF_C2H2', 'C2H2', 'C2H2Plus', 'CN', 'CNPlus', 'SURF_CN', 'BULK_C2H2', 'BULK_CN', 'SURF_HCN', 'SURF_HNC', 'C2H3', 'HCN', 'HCNPlus', 'HNC', 'SURF_C2H3', 'BULK_HCN', 'BULK_HNC', 'BULK_C2H3', 'SURF_CO', 'SURF_N2', 'CO', 'COPlus', 'H2CN', 'HCNHPlus', 'N2', 'N2Plus', 'SI', 'SIPlus', 'SURF_H2CN', 'SURF_C2H4', 'C2H4', 'SURF_SI', 'BULK_CO', 'BULK_N2', 'BULK_H2CN', 'BULK_C2H4', 'BULK_SI', 'HCO', 'HCOPlus', 'SURF_HCO', 'HOCPlus', 'N2HPlus', 'SIH', 'SIHPlus', 'C2H5', 'SURF_C2H5', 'SURF_SIH', 'BULK_HCO', 'BULK_C2H5', 'BULK_SIH', 'SURF_NO', 'SURF_H2CO', 'H2CO', 'H2COPlus', 'NO', 'NOPlus', 'SIH2', 'SIH2Plus', 'SURF_SIH2', 'BULK_NO', 'BULK_H2CO', 'BULK_SIH2', 'H3CO', 'H3COPlus', 'SURF_H3CO', 'HNO', 'HNOPlus', 'SIH3', 'SIH3Plus', 'SURF_HNO', 'CH2OH', 'SURF_CH2OH', 'SURF_SIH3', 'BULK_H3CO', 'BULK_HNO', 'BULK_CH2OH', 'BULK_SIH3', 'SURF_O2', 'SURF_CH3OH', 'SURF_SIH4', 'CH3OH', 'H2NOPlus', 'O2', 'O2Plus', 'S', 'SURF_S', 'SPlus', 'SIH4', 'SIH4Plus', 'BULK_O2', 'BULK_CH3OH', 'BULK_SIH4', 'BULK_S', 'CH3OH2Plus', 'HS', 'HSPlus', 'O2H', 'O2HPlus', 'SIH5Plus', 'SURF_O2H', 'SURF_HS', 'BULK_O2H', 'BULK_HS', 'SURF_H2S', 'H2S', 'H2SPlus', 'BULK_H2S', 'CL', 'CLPlus', 'SURF_CL', 'H3SPlus', 'BULK_CL', 'SURF_HCL', 'C3Plus', 'HCL', 'HCLPlus', 'BULK_HCL', 'H2CLPlus', 'C2N', 'SURF_C2N', 'C2NPlus', 'C3H2', 'SURF_C3H2', 'BULK_C2N', 'BULK_C3H2', 'C2NHPlus', 'SURF_CH3CCH', 'CH3CCH', 'SIC', 'SICPlus', 'SURF_SIC', 'BULK_CH3CCH', 'BULK_SIC', 'SURF_CH3CN', 'C3H5Plus', 'CH3CN', 'BULK_CH3CN', 'SURF_CH2CO', 'SURF_CH3CNH', 'CH2CO', 'CH3CNH', 'CH3CNHPlus', 'OCN', 'SURF_OCN', 'BULK_CH2CO', 'BULK_CH3CNH', 'BULK_OCN', 'SURF_HNCO', 'HNCO', 'BULK_HNCO', 'SURF_SIO', 'SURF_CS', 'SURF_CO2', 'CO2', 'CS', 'CSPlus', 'SIO', 'SIOPlus', 'CH3CHO', 'SURF_CH3CHO', 'BULK_SIO', 'BULK_CS', 'BULK_CO2', 'BULK_CH3CHO', 'HCO2Plus', 'HCS', 'HCSPlus', 'SURF_HCS', 'SIOHPlus', 'HSIO', 'SURF_HSIO', 'NH2CHO', 'SURF_NH2CHO', 'HCOO', 'SURF_HCOO', 'BULK_HCS', 'BULK_HSIO', 'BULK_NH2CHO', 'BULK_HCOO', 'SURF_H2CS', 'SURF_NO2', 'SURF_NS', 'SURF_H2SIO', 'H2CS', 'H2CSPlus', 'H2SIO', 'NO2', 'NS', 'NSPlus', 'HCOOH', 'SURF_HCOOH', 'BULK_H2CS', 'BULK_NO2', 'BULK_NS', 'BULK_H2SIO', 'BULK_HCOOH', 'H3CSPlus', 'HNSPlus', 'SURF_SO', 'SO', 'SOPlus', 'BULK_SO', 'C4H', 'HSOPlus', 'SURF_C4H', 'BULK_C4H', 'C3N', 'SURF_C3N', 'BULK_C3N', 'SURF_HC3N', 'HC3N', 'BULK_HC3N', 'C2N2Plus', 'NCCN', 'SIC2', 'SIC2Plus', 'SURF_NCCN', 'SURF_SIC2', 'BULK_NCCN', 'BULK_SIC2', 'SURF_SIS', 'SURF_OCS', 'OCS', 'OCSPlus', 'SIS', 'SISPlus', 'BULK_SIS', 'BULK_OCS', 'HOCSPlus', 'HSISPlus', 'C4N', 'C4NPlus', 'SURF_C4N', 'BULK_C4N', 'SURF_SIC3', 'SIC3Plus', 'SIC3', 'SURF_SO2', 'S2', 'SURF_S2', 'S2Plus', 'SO2Plus', 'SO2', 'BULK_SIC3', 'BULK_SO2', 'BULK_S2', 'HS2', 'HS2Plus', 'HSO2Plus', 'SURF_HS2', 'BULK_HS2', 'H2S2Plus', 'H2S2', 'SURF_H2S2', 'BULK_H2S2', 'E_minus', 'BULK', 'SURFACE']\n",
      "335\n",
      "['BULK', 'BULK_C', 'BULK_C2', 'BULK_C2H', 'BULK_C2H2', 'BULK_C2H3', 'BULK_C2H4', 'BULK_C2H5', 'BULK_C2N', 'BULK_C3H2', 'BULK_C3N', 'BULK_C4H', 'BULK_C4N', 'BULK_CH', 'BULK_CH2', 'BULK_CH2CO', 'BULK_CH2OH', 'BULK_CH3', 'BULK_CH3CCH', 'BULK_CH3CHO', 'BULK_CH3CN', 'BULK_CH3CNH', 'BULK_CH3OH', 'BULK_CH4', 'BULK_CL', 'BULK_CN', 'BULK_CO', 'BULK_CO2', 'BULK_CS', 'BULK_H', 'BULK_H2', 'BULK_H2CN', 'BULK_H2CO', 'BULK_H2CS', 'BULK_H2O', 'BULK_H2S', 'BULK_H2S2', 'BULK_H2SIO', 'BULK_H3CO', 'BULK_HC3N', 'BULK_HCL', 'BULK_HCN', 'BULK_HCO', 'BULK_HCOO', 'BULK_HCOOH', 'BULK_HCS', 'BULK_HE', 'BULK_HNC', 'BULK_HNCO', 'BULK_HNO', 'BULK_HS', 'BULK_HS2', 'BULK_HSIO', 'BULK_MG', 'BULK_N', 'BULK_N2', 'BULK_NCCN', 'BULK_NH', 'BULK_NH2', 'BULK_NH2CHO', 'BULK_NH3', 'BULK_NO', 'BULK_NO2', 'BULK_NS', 'BULK_O', 'BULK_O2', 'BULK_O2H', 'BULK_OCN', 'BULK_OCS', 'BULK_OH', 'BULK_S', 'BULK_S2', 'BULK_SI', 'BULK_SIC', 'BULK_SIC2', 'BULK_SIC3', 'BULK_SIH', 'BULK_SIH2', 'BULK_SIH3', 'BULK_SIH4', 'BULK_SIO', 'BULK_SIS', 'BULK_SO', 'BULK_SO2', 'C', 'C2', 'C2H', 'C2H2', 'C2H2Plus', 'C2H3', 'C2H4', 'C2H5', 'C2HPlus', 'C2N', 'C2N2Plus', 'C2NHPlus', 'C2NPlus', 'C2Plus', 'C3H2', 'C3H5Plus', 'C3N', 'C3Plus', 'C4H', 'C4N', 'C4NPlus', 'CH', 'CH2', 'CH2CO', 'CH2OH', 'CH2Plus', 'CH3', 'CH3CCH', 'CH3CHO', 'CH3CN', 'CH3CNH', 'CH3CNHPlus', 'CH3OH', 'CH3OH2Plus', 'CH3Plus', 'CH4', 'CH4Plus', 'CH5Plus', 'CHPlus', 'CL', 'CLPlus', 'CN', 'CNPlus', 'CO', 'CO2', 'COPlus', 'CPlus', 'CS', 'CSPlus', 'E_minus', 'H', 'H2', 'H2CLPlus', 'H2CN', 'H2CO', 'H2COPlus', 'H2CS', 'H2CSPlus', 'H2NOPlus', 'H2O', 'H2OPlus', 'H2Plus', 'H2S', 'H2S2', 'H2S2Plus', 'H2SIO', 'H2SPlus', 'H3CO', 'H3COPlus', 'H3CSPlus', 'H3OPlus', 'H3Plus', 'H3SPlus', 'HC3N', 'HCL', 'HCLPlus', 'HCN', 'HCNHPlus', 'HCNPlus', 'HCO', 'HCO2Plus', 'HCOO', 'HCOOH', 'HCOPlus', 'HCS', 'HCSPlus', 'HE', 'HEHPlus', 'HEPlus', 'HNC', 'HNCO', 'HNO', 'HNOPlus', 'HNSPlus', 'HOCPlus', 'HOCSPlus', 'HPlus', 'HS', 'HS2', 'HS2Plus', 'HSIO', 'HSISPlus', 'HSO2Plus', 'HSOPlus', 'HSPlus', 'MG', 'MGPlus', 'N', 'N2', 'N2HPlus', 'N2Plus', 'NCCN', 'NH', 'NH2', 'NH2CHO', 'NH2Plus', 'NH3', 'NH3Plus', 'NH4Plus', 'NHPlus', 'NO', 'NO2', 'NOPlus', 'NPlus', 'NS', 'NSPlus', 'O', 'O2', 'O2H', 'O2HPlus', 'O2Plus', 'OCN', 'OCS', 'OCSPlus', 'OH', 'OHPlus', 'OPlus', 'S', 'S2', 'S2Plus', 'SI', 'SIC', 'SIC2', 'SIC2Plus', 'SIC3', 'SIC3Plus', 'SICPlus', 'SIH', 'SIH2', 'SIH2Plus', 'SIH3', 'SIH3Plus', 'SIH4', 'SIH4Plus', 'SIH5Plus', 'SIHPlus', 'SIO', 'SIOHPlus', 'SIOPlus', 'SIPlus', 'SIS', 'SISPlus', 'SO', 'SO2', 'SO2Plus', 'SOPlus', 'SPlus', 'SURFACE', 'SURF_C', 'SURF_C2', 'SURF_C2H', 'SURF_C2H2', 'SURF_C2H3', 'SURF_C2H4', 'SURF_C2H5', 'SURF_C2N', 'SURF_C3H2', 'SURF_C3N', 'SURF_C4H', 'SURF_C4N', 'SURF_CH', 'SURF_CH2', 'SURF_CH2CO', 'SURF_CH2OH', 'SURF_CH3', 'SURF_CH3CCH', 'SURF_CH3CHO', 'SURF_CH3CN', 'SURF_CH3CNH', 'SURF_CH3OH', 'SURF_CH4', 'SURF_CL', 'SURF_CN', 'SURF_CO', 'SURF_CO2', 'SURF_CS', 'SURF_H', 'SURF_H2', 'SURF_H2CN', 'SURF_H2CO', 'SURF_H2CS', 'SURF_H2O', 'SURF_H2S', 'SURF_H2S2', 'SURF_H2SIO', 'SURF_H3CO', 'SURF_HC3N', 'SURF_HCL', 'SURF_HCN', 'SURF_HCO', 'SURF_HCOO', 'SURF_HCOOH', 'SURF_HCS', 'SURF_HE', 'SURF_HNC', 'SURF_HNCO', 'SURF_HNO', 'SURF_HS', 'SURF_HS2', 'SURF_HSIO', 'SURF_MG', 'SURF_N', 'SURF_N2', 'SURF_NCCN', 'SURF_NH', 'SURF_NH2', 'SURF_NH2CHO', 'SURF_NH3', 'SURF_NO', 'SURF_NO2', 'SURF_NS', 'SURF_O', 'SURF_O2', 'SURF_O2H', 'SURF_OCN', 'SURF_OCS', 'SURF_OH', 'SURF_S', 'SURF_S2', 'SURF_SI', 'SURF_SIC', 'SURF_SIC2', 'SURF_SIC3', 'SURF_SIH', 'SURF_SIH2', 'SURF_SIH3', 'SURF_SIH4', 'SURF_SIO', 'SURF_SIS', 'SURF_SO', 'SURF_SO2']\n"
     ]
    }
   ],
   "source": [
    "training_dataset = pd.read_hdf(\n",
    "    DatasetConfig.validation_dataset_path, \n",
    "    \"models\", \n",
    "    start=0,\n",
    "    stop=1000,\n",
    "    #stop=1500000\n",
    "    ).astype(np.float32)\n",
    "\n",
    "ds = DatasetConfig.metadata + DatasetConfig.physical_parameters\n",
    "species_names = [col for col in training_dataset.columns if col not in ds]\n",
    "\n",
    "print(species_names)\n",
    "print(len(species_names))\n",
    "print(sorted(species_names))\n",
    "\n",
    "training_dataset[\"Index\"] = training_dataset[\"Index\"].astype(np.int32)\n",
    "training_dataset[\"Model\"] = training_dataset[\"Model\"].astype(np.int32)\n",
    "\n",
    "#training_dataset.to_hdf('../data/validation_df.h5', key='models', mode='w')"
   ]
  },
  {
   "cell_type": "code",
   "execution_count": null,
   "metadata": {},
   "outputs": [],
   "source": []
  }
 ],
 "metadata": {
  "kernelspec": {
   "display_name": "Python 3",
   "language": "python",
   "name": "python3"
  },
  "language_info": {
   "codemirror_mode": {
    "name": "ipython",
    "version": 3
   },
   "file_extension": ".py",
   "mimetype": "text/x-python",
   "name": "python",
   "nbconvert_exporter": "python",
   "pygments_lexer": "ipython3",
   "version": "3.11.9"
  }
 },
 "nbformat": 4,
 "nbformat_minor": 2
}
